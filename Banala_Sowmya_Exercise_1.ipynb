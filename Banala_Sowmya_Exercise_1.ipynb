{
  "cells": [
    {
      "cell_type": "markdown",
      "metadata": {
        "id": "view-in-github"
      },
      "source": [
        "<a href=\"https://colab.research.google.com/github/unt-iialab/INFO5731_Spring2020/blob/master/In_class_exercise/In_class_exercise_01.ipynb\" target=\"_parent\"><img src=\"https://colab.research.google.com/assets/colab-badge.svg\" alt=\"Open In Colab\"/></a>"
      ]
    },
    {
      "cell_type": "markdown",
      "metadata": {
        "id": "DymRJbxDBCnf"
      },
      "source": [
        "# **The first In-class-exercise (08/30/2023, 40 points in total)**\n",
        "This exercise is due tomorrow 08/31/203 11:59 PM.\n"
      ]
    },
    {
      "cell_type": "markdown",
      "source": [
        "(1) Write a Python program to calculate the area of a rectangle using user-input length and width."
      ],
      "metadata": {
        "id": "FBKvD6O_TY6e"
      }
    },
    {
      "cell_type": "code",
      "source": [
        "#  user input for the length and width of the rectangle\n",
        "l = float(input(\"Enter the length of the rectangle: \"))\n",
        "w = float(input(\"Enter the width of the rectangle: \"))\n",
        "\n",
        "# Calculate the area\n",
        "area = l * w\n",
        "\n",
        "# Display the result\n",
        "print(f\"The area of the rectangle is {area}\")\n"
      ],
      "metadata": {
        "id": "cikVKDXdTbzE",
        "colab": {
          "base_uri": "https://localhost:8080/"
        },
        "outputId": "3aef2bd2-6ba7-45a0-dd6b-dd3ecbd1d5a7"
      },
      "execution_count": 2,
      "outputs": [
        {
          "output_type": "stream",
          "name": "stdout",
          "text": [
            "Enter the length of the rectangle: 10\n",
            "Enter the width of the rectangle: 20\n",
            "The area of the rectangle is 200.0\n"
          ]
        }
      ]
    },
    {
      "cell_type": "markdown",
      "source": [
        "(2) Create a program that takes two numbers from the user and swaps their values without using a temporary variable."
      ],
      "metadata": {
        "id": "E9RqrlwdTfvl"
      }
    },
    {
      "cell_type": "code",
      "source": [
        "# Get two numbers from the user\n",
        "num1 = float(input(\"Enter the first number: \"))\n",
        "num2 = float(input(\"Enter the second number: \"))\n",
        "\n",
        "# Swapping the values without a temporary variable\n",
        "num1 = num1 + num2\n",
        "num2 = num1 - num2\n",
        "num1 = num1 - num2\n",
        "\n",
        "# Displaying  the swapped values\n",
        "print(f\"After swapping, the first number is: {num1}\")\n",
        "print(f\"After swapping, the second number is: {num2}\")\n"
      ],
      "metadata": {
        "id": "4XvRknixTh1g",
        "colab": {
          "base_uri": "https://localhost:8080/"
        },
        "outputId": "8e5dd959-54e1-4b2c-e8ec-764748250f06"
      },
      "execution_count": 1,
      "outputs": [
        {
          "output_type": "stream",
          "name": "stdout",
          "text": [
            "Enter the first number: 10\n",
            "Enter the second number: 20\n",
            "After swapping, the first number is: 20.0\n",
            "After swapping, the second number is: 10.0\n"
          ]
        }
      ]
    },
    {
      "cell_type": "markdown",
      "metadata": {
        "id": "03jb4GZsBkBS"
      },
      "source": [
        "(3) Write a Python program to calculate the length of a string."
      ]
    },
    {
      "cell_type": "code",
      "execution_count": 2,
      "metadata": {
        "id": "YaGLbSHHB8Ej",
        "colab": {
          "base_uri": "https://localhost:8080/"
        },
        "outputId": "8defd328-93b0-4e0d-9cbe-bd6634810b8a"
      },
      "outputs": [
        {
          "output_type": "stream",
          "name": "stdout",
          "text": [
            "Enter a string: Sowmya\n",
            "The length of the string is 6 characters.\n"
          ]
        }
      ],
      "source": [
        "\n",
        "input_string = input(\"Enter a string: \")\n",
        "\n",
        "# Calculate the length of the string by using len() function\n",
        "length = len(input_string)\n",
        "\n",
        "# Display the length of the string\n",
        "print(f\"The length of the string is {length} characters.\")\n",
        "\n"
      ]
    },
    {
      "cell_type": "markdown",
      "metadata": {
        "id": "jJDe71iLB616"
      },
      "source": [
        "(4) Write a Python program to count the number of characters in a string.\n",
        "\n",
        "Sample String : 'google.com‘,\n",
        "\n",
        "Expected Result : {'o': 3, 'g': 2, '.': 1, 'e': 1, 'l': 1, 'm': 1, 'c': 1}"
      ]
    },
    {
      "cell_type": "code",
      "execution_count": 3,
      "metadata": {
        "id": "MtKskTzbCLaU",
        "colab": {
          "base_uri": "https://localhost:8080/"
        },
        "outputId": "b67c2f0c-d8cb-4afd-b116-ddd421f54b4f"
      },
      "outputs": [
        {
          "output_type": "stream",
          "name": "stdout",
          "text": [
            "{'g': 2, 'o': 3, 'l': 1, 'e': 1, '.': 1, 'c': 1, 'm': 1}\n"
          ]
        }
      ],
      "source": [
        "# Sample string\n",
        "sample_string = 'google.com'\n",
        "\n",
        "# Initialize an empty dictionary to store character counts\n",
        "char_count = {}\n",
        "\n",
        "# Iterate through the string\n",
        "for char in sample_string:\n",
        "    # Check if the character is already in the dictionary\n",
        "    if char in char_count:\n",
        "        # If it's in the dictionary, increment the count\n",
        "        char_count[char] += 1\n",
        "    else:\n",
        "        # If it's not in the dictionary, add it with a count of 1\n",
        "        char_count[char] = 1\n",
        "\n",
        "# Display the character counts\n",
        "print(char_count)\n",
        "\n"
      ]
    },
    {
      "cell_type": "markdown",
      "metadata": {
        "id": "55W9AMdXCSpV"
      },
      "source": [
        "(5) Write a Python program to sum all the items in a list."
      ]
    },
    {
      "cell_type": "code",
      "execution_count": 4,
      "metadata": {
        "id": "I57NXsauCec2",
        "colab": {
          "base_uri": "https://localhost:8080/"
        },
        "outputId": "b0a9a3c5-adac-4846-e0c4-855ff1e6ea2b"
      },
      "outputs": [
        {
          "output_type": "stream",
          "name": "stdout",
          "text": [
            "The sum of all items in the list is: 150\n"
          ]
        }
      ],
      "source": [
        "\n",
        "numbers = [10, 20, 30, 40, 50]\n",
        "\n",
        "# Initialize a variable to store the sum\n",
        "t = 0\n",
        "\n",
        "# Iterate through the list and add each item to the total\n",
        "for number in numbers:\n",
        "    t += number\n",
        "\n",
        "# Display the sum\n",
        "print(\"The sum of all items in the list is:\", t)\n",
        "\n"
      ]
    },
    {
      "cell_type": "markdown",
      "metadata": {
        "id": "4ulBZ6yhCi9F"
      },
      "source": [
        "(6) Write a Python program to get a string from a given string where all occurrences of its first char have been changed to '\\$', except the first char itself.\n",
        "\n",
        "Sample String : 'restart‘,\n",
        "\n",
        "Expected Result : 'resta\\$t'"
      ]
    },
    {
      "cell_type": "code",
      "execution_count": 8,
      "metadata": {
        "id": "Fj0XhwbBCw2o",
        "colab": {
          "base_uri": "https://localhost:8080/"
        },
        "outputId": "9014e78e-c88c-4764-8c31-28beb29bc4ab"
      },
      "outputs": [
        {
          "output_type": "stream",
          "name": "stdout",
          "text": [
            "Enter a string: restart\n",
            "Modified string: resta$t\n"
          ]
        }
      ],
      "source": [
        "def replace_first_char(string):\n",
        "    # Check if the string is empty\n",
        "    if not string:\n",
        "        return string\n",
        "\n",
        "    # Get the first character of the string\n",
        "    first_char = string[0]\n",
        "\n",
        "    # Replace all occurrences of the first character with '$' starting from index 1\n",
        "    modified_string = first_char + string[1:].replace(first_char, '$')\n",
        "\n",
        "    return modified_string\n",
        "\n",
        "# Input string\n",
        "input_string = input(\"Enter a string: \")\n",
        "\n",
        "# Call the function to replace characters\n",
        "result = replace_first_char(input_string)\n",
        "\n",
        "# Print the modified string\n",
        "print(\"Modified string:\", result)\n",
        "\n",
        "\n"
      ]
    },
    {
      "cell_type": "markdown",
      "source": [
        "(7) Create a program that calculates the factorial of a number using a while loop."
      ],
      "metadata": {
        "id": "qVXA3q7ET5JI"
      }
    },
    {
      "cell_type": "code",
      "source": [
        "#\n",
        "num = int(input(\"Enter a number: \"))\n",
        "\n",
        "# Initialize variables\n",
        "factorial = 1\n",
        "current = 1\n",
        "\n",
        "# Calculate the factorial using a while loop\n",
        "while current <= num:\n",
        "    factorial *= current\n",
        "    current += 1\n",
        "\n",
        "# Display the factorial\n",
        "print(f\"The factorial of {num} is {factorial}\")\n"
      ],
      "metadata": {
        "id": "Lbt7R6UkT7BA",
        "colab": {
          "base_uri": "https://localhost:8080/"
        },
        "outputId": "1c7789ba-c3f9-46a8-aba3-0f48ddd6e5ca"
      },
      "execution_count": 9,
      "outputs": [
        {
          "output_type": "stream",
          "name": "stdout",
          "text": [
            "Enter a number: 20\n",
            "The factorial of 20 is 2432902008176640000\n"
          ]
        }
      ]
    },
    {
      "cell_type": "markdown",
      "source": [
        "(8) Create a program that takes a list of numbers as input and outputs a new list with only the even numbers."
      ],
      "metadata": {
        "id": "6YfbzXMNT--R"
      }
    },
    {
      "cell_type": "code",
      "source": [
        "\n",
        "# Get a list of numbers from the user\n",
        "input_list = input(\"Enter a list of numbers separated by spaces: \").split()\n",
        "\n",
        "# Convert the input to integers and create a new list with only even numbers\n",
        "even_numbers = [int(x) for x in input_list if int(x) % 2 == 0]\n",
        "\n",
        "# Display the list of even numbers\n",
        "print(\"Even numbers in the list:\", even_numbers)\n"
      ],
      "metadata": {
        "id": "54q7wMQPUAKu",
        "colab": {
          "base_uri": "https://localhost:8080/"
        },
        "outputId": "1b364fd6-c1b9-4216-d814-cce2a7e17ab5"
      },
      "execution_count": 10,
      "outputs": [
        {
          "output_type": "stream",
          "name": "stdout",
          "text": [
            "Enter a list of numbers separated by spaces: 12 13 14 15 16 33 22 88\n",
            "Even numbers in the list: [12, 14, 16, 22, 88]\n"
          ]
        }
      ]
    },
    {
      "cell_type": "markdown",
      "metadata": {
        "id": "_bIP7s1MCzue"
      },
      "source": [
        "(9) Write a program with python which could accept two parameter a and b to calculate and output the result of S, where\n",
        "\n",
        "$\\ S=3.14*(1+a/b)^3$\n",
        "\n"
      ]
    },
    {
      "cell_type": "code",
      "execution_count": 11,
      "metadata": {
        "id": "w79QilHXD3Mg",
        "colab": {
          "base_uri": "https://localhost:8080/"
        },
        "outputId": "81842c05-4aea-46c8-cbf7-16c58d25762d"
      },
      "outputs": [
        {
          "output_type": "stream",
          "name": "stdout",
          "text": [
            "Enter the value of 'a': 10\n",
            "Enter the value of 'b': 20\n",
            "The result of S is: 10.5975\n"
          ]
        }
      ],
      "source": [
        "# Get user input for parameters a and b\n",
        "a = float(input(\"Enter the value of 'a': \"))\n",
        "b = float(input(\"Enter the value of 'b': \"))\n",
        "\n",
        "# Calculate S using the formula\n",
        "S = 3.14 * (1 + a / b)**3\n",
        "\n",
        "# Display the result\n",
        "print(\"The result of S is:\", S)\n"
      ]
    },
    {
      "cell_type": "markdown",
      "metadata": {
        "id": "xCa2bK9aD4Q3"
      },
      "source": [
        "(10) Write a Python program to concatenate following dictionaries to create a new one.\n",
        "\n",
        "Sample Dictionary : dic1={1:10, 2:20}, dic2={3:30, 4:40}, dic3={5:50,6:60},\n",
        "\n",
        "Expected Result : {1: 10, 2: 20, 3: 30, 4: 40, 5: 50, 6: 60}\n"
      ]
    },
    {
      "cell_type": "code",
      "execution_count": 12,
      "metadata": {
        "id": "_z4aLqAbEET1",
        "colab": {
          "base_uri": "https://localhost:8080/"
        },
        "outputId": "0883e5f8-db28-4af3-f089-638974d8479e"
      },
      "outputs": [
        {
          "output_type": "stream",
          "name": "stdout",
          "text": [
            "Concatenated dictionary: {1: 10, 2: 20, 3: 30, 4: 40, 5: 50, 6: 60}\n"
          ]
        }
      ],
      "source": [
        "# Sample dictionaries\n",
        "dic1 = {1: 10, 2: 20}\n",
        "dic2 = {3: 30, 4: 40}\n",
        "dic3 = {5: 50, 6: 60}\n",
        "\n",
        "# Create an empty dictionary to store the result\n",
        "result_dict = {}\n",
        "\n",
        "# Use the update() method to concatenate the dictionaries\n",
        "result_dict.update(dic1)\n",
        "result_dict.update(dic2)\n",
        "result_dict.update(dic3)\n",
        "\n",
        "# Display the concatenated dictionary\n",
        "print(\"Concatenated dictionary:\", result_dict)\n",
        "\n"
      ]
    },
    {
      "cell_type": "markdown",
      "source": [
        "(11) Write a Python function that accepts a tuple of integers and returns the largest and smallest elements."
      ],
      "metadata": {
        "id": "bkyZ2xSZUOst"
      }
    },
    {
      "cell_type": "code",
      "source": [
        "def find_largest_smallest(numbers):\n",
        "    if not numbers:\n",
        "        return None, None  # Return None for both largest and smallest if the tuple is empty\n",
        "\n",
        "    largest = smallest = numbers[0]  # Initialize the largest and smallest with the first element\n",
        "\n",
        "    for num in numbers:\n",
        "        if num > largest:\n",
        "            largest = num\n",
        "        elif num < smallest:\n",
        "            smallest = num\n",
        "\n",
        "    return largest, smallest\n",
        "\n",
        "# Example usage:\n",
        "my_tuple = (12, 45, 5, 67, 89, 3, 23)\n",
        "largest, smallest = find_largest_smallest(my_tuple)\n",
        "\n",
        "print(\"Largest element:\", largest)\n",
        "print(\"Smallest element:\", smallest)\n"
      ],
      "metadata": {
        "id": "3FdLRBKOUQEd",
        "colab": {
          "base_uri": "https://localhost:8080/"
        },
        "outputId": "3e40ba8b-c2ea-4006-889f-e4cbac355604"
      },
      "execution_count": 13,
      "outputs": [
        {
          "output_type": "stream",
          "name": "stdout",
          "text": [
            "Largest element: 89\n",
            "Smallest element: 3\n"
          ]
        }
      ]
    },
    {
      "cell_type": "markdown",
      "source": [
        "(12) Write a Python program that counts the frequency of each character in a given string and stores it in a dictionary."
      ],
      "metadata": {
        "id": "O0TVi3gKUTpp"
      }
    },
    {
      "cell_type": "code",
      "source": [
        "# Get the input string from the user\n",
        "input_string = input(\"Enter a string: \")\n",
        "\n",
        "# Initialize an empty dictionary to store character frequencies\n",
        "char_frequency = {}\n",
        "\n",
        "# Iterate through the string\n",
        "for char in input_string:\n",
        "    # Check if the character is already in the dictionary\n",
        "    if char in char_frequency:\n",
        "        # If it's in the dictionary, increment the count\n",
        "        char_frequency[char] += 1\n",
        "    else:\n",
        "        # If it's not in the dictionary, add it with a count of 1\n",
        "        char_frequency[char] = 1\n",
        "\n",
        "# Display the character frequencies\n",
        "print(\"Character frequencies:\")\n",
        "for char, frequency in char_frequency.items():\n",
        "    print(f\"'{char}': {frequency}\")\n"
      ],
      "metadata": {
        "id": "lAtfSfZXUU-h",
        "colab": {
          "base_uri": "https://localhost:8080/"
        },
        "outputId": "6089a414-5f7a-4468-dbc6-e06b60f799e8"
      },
      "execution_count": 14,
      "outputs": [
        {
          "output_type": "stream",
          "name": "stdout",
          "text": [
            "Enter a string: Sowmya\n",
            "Character frequencies:\n",
            "'S': 1\n",
            "'o': 1\n",
            "'w': 1\n",
            "'m': 1\n",
            "'y': 1\n",
            "'a': 1\n"
          ]
        }
      ]
    },
    {
      "cell_type": "markdown",
      "metadata": {
        "id": "0v48Vqa7FrQh"
      },
      "source": [
        "(13) Write a Python program to check whether an element exists within a tuple."
      ]
    },
    {
      "cell_type": "code",
      "execution_count": 15,
      "metadata": {
        "id": "7WEmgq-DF2P1",
        "colab": {
          "base_uri": "https://localhost:8080/"
        },
        "outputId": "2bbcbd3c-e8dd-4c1f-d911-c5e40d90ccd8"
      },
      "outputs": [
        {
          "output_type": "stream",
          "name": "stdout",
          "text": [
            "Enter an element to check: 20\n",
            "20 does not exist in the tuple.\n"
          ]
        }
      ],
      "source": [
        "# Sample tuple\n",
        "my_tuple = (1, 2, 3, 4, 5)\n",
        "\n",
        "# Element to check\n",
        "element_to_check = int(input(\"Enter an element to check: \"))\n",
        "\n",
        "# Check if the element exists in the tuple\n",
        "if element_to_check in my_tuple:\n",
        "    print(f\"{element_to_check} exists in the tuple.\")\n",
        "else:\n",
        "    print(f\"{element_to_check} does not exist in the tuple.\")\n",
        "\n"
      ]
    },
    {
      "cell_type": "markdown",
      "metadata": {
        "id": "vD5PYLMuGga_"
      },
      "source": [
        "(14) Write a Python program to find maximum and the minimum value in a set."
      ]
    },
    {
      "cell_type": "code",
      "execution_count": 16,
      "metadata": {
        "id": "t0D5kdJUGjjw",
        "colab": {
          "base_uri": "https://localhost:8080/"
        },
        "outputId": "30c6a75d-daf8-4477-be1f-c3a178451908"
      },
      "outputs": [
        {
          "output_type": "stream",
          "name": "stdout",
          "text": [
            "Maximum value: 9\n",
            "Minimum value: 1\n"
          ]
        }
      ],
      "source": [
        "# Sample set\n",
        "my_set = {3, 1, 4, 1, 5, 9, 2, 6, 5, 3, 5}\n",
        "\n",
        "# Convert the set to a list\n",
        "my_list = list(my_set)\n",
        "\n",
        "# Find the maximum and minimum values\n",
        "max_value = max(my_list)\n",
        "min_value = min(my_list)\n",
        "\n",
        "# Display the maximum and minimum values\n",
        "print(\"Maximum value:\", max_value)\n",
        "print(\"Minimum value:\", min_value)\n",
        "\n"
      ]
    },
    {
      "cell_type": "markdown",
      "metadata": {
        "id": "uHkd-y5VhVWC"
      },
      "source": [
        "(15) Write a Python program to randomly divide the students in this class into six groups for term projects, each group should have at least 4 students but no more than 6 students (including 6). Here is the students list:\n",
        "student_list_fall_2023=['sb1826' ,\n",
        " 'lb0582' ,\n",
        " 'ab1820' ,\n",
        " 'sb1883' ,\n",
        " 'mb1296' ,\n",
        " 'sc1622' ,\n",
        " 'tc0469' ,\n",
        " 'ac1770' ,\n",
        " 'mc1453' ,\n",
        " 'ad1187' ,\n",
        " 'sd0926' ,\n",
        " 'sd1268' ,\n",
        " 'ag1609' ,\n",
        " 'sg1638' ,\n",
        " 'mg1299' ,\n",
        " 'vkk0022' ,\n",
        " 'bk0413' ,\n",
        " 'gk0257' ,\n",
        " 'am2807' ,\n",
        " 'gm0558' ,\n",
        " 'pm0658' ,\n",
        " 'am2346' ,\n",
        " 'rm1090' ,\n",
        " 'sm2364' ,\n",
        " 'sm2747' ,\n",
        " 'sm2343' ,\n",
        " 'vm0597' ,\n",
        " 'htn0086' ,\n",
        " 'sp2075' ,\n",
        " 'gp0306' ,\n",
        " 'lp0502' ,\n",
        " 'sr1508' ,\n",
        " 'vr0331' ,\n",
        " 'yr0180' ,\n",
        " 'as2819' ,\n",
        " 'ss2981' ,\n",
        " 'ns0756' ,\n",
        " 'mt0825' ,\n",
        " 'dt0463' ,\n",
        " 'su0137' ,\n",
        " 'dv0310'\n",
        "]"
      ]
    },
    {
      "cell_type": "code",
      "execution_count": 17,
      "metadata": {
        "id": "3iGbmcOBhTwy",
        "colab": {
          "base_uri": "https://localhost:8080/"
        },
        "outputId": "a98fba40-7334-42d0-dac0-f6247b9ae8e0"
      },
      "outputs": [
        {
          "output_type": "stream",
          "name": "stdout",
          "text": [
            "Group 1: ad1187, ss2981, vkk0022, dt0463\n",
            "Group 2: rm1090, ag1609, sp2075, vr0331\n",
            "Group 3: vm0597, ab1820, gp0306, ac1770, bk0413\n",
            "Group 4: tc0469, sb1883, dv0310, lb0582\n",
            "Group 5: am2346, mt0825, ns0756, sm2364, htn0086, sd1268\n",
            "Group 6: as2819, mb1296, sd0926, gk0257, lp0502\n",
            "Group 7: gm0558, yr0180, mc1453, mg1299, am2807\n",
            "Group 8: sg1638, sc1622, sr1508, pm0658, sb1826, sm2747\n",
            "Group 9: su0137, sm2343\n"
          ]
        }
      ],
      "source": [
        "import random\n",
        "\n",
        "# Student list\n",
        "student_list_fall_2023 = ['sb1826', 'lb0582', 'ab1820', 'sb1883', 'mb1296', 'sc1622', 'tc0469', 'ac1770', 'mc1453', 'ad1187', 'sd0926', 'sd1268', 'ag1609', 'sg1638', 'mg1299', 'vkk0022', 'bk0413', 'gk0257', 'am2807', 'gm0558', 'pm0658', 'am2346', 'rm1090', 'sm2364', 'sm2747', 'sm2343', 'vm0597', 'htn0086', 'sp2075', 'gp0306', 'lp0502', 'sr1508', 'vr0331', 'yr0180', 'as2819', 'ss2981', 'ns0756', 'mt0825', 'dt0463', 'su0137', 'dv0310']\n",
        "\n",
        "# Shuffle the student list randomly\n",
        "random.shuffle(student_list_fall_2023)\n",
        "\n",
        "# Initialize variables for group size and group number\n",
        "group_size = random.randint(4, 6)\n",
        "group_number = 1\n",
        "\n",
        "# Initialize an empty dictionary to store groups\n",
        "groups = {}\n",
        "\n",
        "# Iterate through the shuffled student list and assign students to groups\n",
        "for student in student_list_fall_2023:\n",
        "    # Create a new group if the current group is full\n",
        "    if len(groups.get(group_number, [])) >= group_size:\n",
        "        group_number += 1\n",
        "        group_size = random.randint(4, 6)\n",
        "\n",
        "    # Add the student to the current group\n",
        "    if group_number not in groups:\n",
        "        groups[group_number] = []\n",
        "    groups[group_number].append(student)\n",
        "\n",
        "# Display the groups\n",
        "for group_number, group_members in groups.items():\n",
        "    print(f\"Group {group_number}: {', '.join(group_members)}\")\n",
        "\n"
      ]
    },
    {
      "cell_type": "markdown",
      "metadata": {
        "id": "fmZ9vX20Qs3d"
      },
      "source": [
        "(16) Write a Python program to find the duplicate elements in a given array of integers. Return -1 If there are no such elements."
      ]
    },
    {
      "cell_type": "code",
      "execution_count": 18,
      "metadata": {
        "id": "W8Jw6sWMQs3d",
        "colab": {
          "base_uri": "https://localhost:8080/"
        },
        "outputId": "2630ee89-077c-49cf-9d79-e883f0ad8e2f"
      },
      "outputs": [
        {
          "output_type": "stream",
          "name": "stdout",
          "text": [
            "Duplicate elements: [9, 2]\n"
          ]
        }
      ],
      "source": [
        "def find_duplicates(arr):\n",
        "    seen = {}  # Create a dictionary to store seen elements\n",
        "\n",
        "    duplicates = set()  # Create a set to store duplicate elements\n",
        "\n",
        "    for num in arr:\n",
        "        if num in seen:\n",
        "            duplicates.add(num)  # Add the duplicate to the set\n",
        "        else:\n",
        "            seen[num] = True  # Mark the element as seen\n",
        "\n",
        "    if not duplicates:\n",
        "        return -1  # Return -1 if no duplicates found\n",
        "    else:\n",
        "        return list(duplicates)  # Convert the set of duplicates to a list\n",
        "\n",
        "# Example usage:\n",
        "input_array = [1, 2, 3, 4, 5, 2, 6, 7, 8, 9, 9, 10]\n",
        "result = find_duplicates(input_array)\n",
        "\n",
        "if result == -1:\n",
        "    print(\"No duplicate elements found.\")\n",
        "else:\n",
        "    print(\"Duplicate elements:\", result)\n",
        "\n"
      ]
    },
    {
      "cell_type": "markdown",
      "metadata": {
        "id": "hvq4APMhQs3d"
      },
      "source": [
        "(17) Write a Python program to select all the Sundays of a specified year."
      ]
    },
    {
      "cell_type": "code",
      "execution_count": 21,
      "metadata": {
        "id": "ZnoxhSglQs3d",
        "colab": {
          "base_uri": "https://localhost:8080/"
        },
        "outputId": "5a05eb6f-9a61-4795-a816-ad39c336cc6c"
      },
      "outputs": [
        {
          "output_type": "stream",
          "name": "stdout",
          "text": [
            "enter year2000\n",
            "2000-01-02\n",
            "2000-01-09\n",
            "2000-01-16\n",
            "2000-01-23\n",
            "2000-01-30\n",
            "2000-02-06\n",
            "2000-02-13\n",
            "2000-02-20\n",
            "2000-02-27\n",
            "2000-03-05\n",
            "2000-03-12\n",
            "2000-03-19\n",
            "2000-03-26\n",
            "2000-04-02\n",
            "2000-04-09\n",
            "2000-04-16\n",
            "2000-04-23\n",
            "2000-04-30\n",
            "2000-05-07\n",
            "2000-05-14\n",
            "2000-05-21\n",
            "2000-05-28\n",
            "2000-06-04\n",
            "2000-06-11\n",
            "2000-06-18\n",
            "2000-06-25\n",
            "2000-07-02\n",
            "2000-07-09\n",
            "2000-07-16\n",
            "2000-07-23\n",
            "2000-07-30\n",
            "2000-08-06\n",
            "2000-08-13\n",
            "2000-08-20\n",
            "2000-08-27\n",
            "2000-09-03\n",
            "2000-09-10\n",
            "2000-09-17\n",
            "2000-09-24\n",
            "2000-10-01\n",
            "2000-10-08\n",
            "2000-10-15\n",
            "2000-10-22\n",
            "2000-10-29\n",
            "2000-11-05\n",
            "2000-11-12\n",
            "2000-11-19\n",
            "2000-11-26\n",
            "2000-12-03\n",
            "2000-12-10\n",
            "2000-12-17\n",
            "2000-12-24\n",
            "2000-12-31\n"
          ]
        }
      ],
      "source": [
        "import datetime\n",
        "\n",
        "# Specify the year for which you want to find Sundays\n",
        "year = int(input(\"enter year\"))\n",
        "\n",
        "# Create a list to store the Sundays\n",
        "sundays = []\n",
        "\n",
        "# Iterate through the months of the specified year\n",
        "for month in range(1, 13):\n",
        "    for day in range(1, 32):\n",
        "        try:\n",
        "            date = datetime.date(year, month, day)\n",
        "            if date.strftime(\"%A\") == \"Sunday\":\n",
        "                sundays.append(date)\n",
        "        except ValueError:\n",
        "            # Handle invalid dates (e.g., February 30)\n",
        "            continue\n",
        "\n",
        "# Print the list of Sundays\n",
        "for sunday in sundays:\n",
        "    print(sunday.strftime(\"%Y-%m-%d\"))\n",
        "\n"
      ]
    },
    {
      "cell_type": "markdown",
      "source": [
        "(18) Build a program that calculates the factorial of a given positive integer. The factorial of a non-negative integer n is the product of all positive integers less than or equal to n."
      ],
      "metadata": {
        "id": "55FWoSJPVVM6"
      }
    },
    {
      "cell_type": "code",
      "source": [
        "# Function to calculate the factorial of a positive integer\n",
        "def calculate_factorial(n):\n",
        "    if n < 0:\n",
        "        return \"Factorial is not defined for negative numbers\"\n",
        "    elif n == 0 or n == 1:\n",
        "        return 1\n",
        "    else:\n",
        "        factorial = 1\n",
        "        for i in range(2, n + 1):\n",
        "            factorial *= i\n",
        "        return factorial\n",
        "\n",
        "# Get user input for the positive integer\n",
        "n = int(input(\"Enter a positive integer: \"))\n",
        "\n",
        "# Calculate and display the factorial\n",
        "result = calculate_factorial(n)\n",
        "if isinstance(result, int):\n",
        "    print(f\"The factorial of {n} is {result}\")\n",
        "else:\n",
        "    print(result)\n"
      ],
      "metadata": {
        "id": "hwtr1wZmVX5A",
        "colab": {
          "base_uri": "https://localhost:8080/"
        },
        "outputId": "109ba814-70a0-466a-d512-d9af86a414cc"
      },
      "execution_count": 22,
      "outputs": [
        {
          "output_type": "stream",
          "name": "stdout",
          "text": [
            "Enter a positive integer: 20\n",
            "The factorial of 20 is 2432902008176640000\n"
          ]
        }
      ]
    },
    {
      "cell_type": "markdown",
      "source": [
        "(19) Write a program that takes a positive integer n as input and prints the count of even numbers from 1 to n. Use a loop to iterate through the numbers and utilize the break statement to optimize the loop."
      ],
      "metadata": {
        "id": "Q9ecagcaVazW"
      }
    },
    {
      "cell_type": "code",
      "source": [
        "# Get user input for a positive integer n\n",
        "n = int(input(\"Enter a positive integer: \"))\n",
        "\n",
        "# Initialize a variable to count even numbers\n",
        "count_even = 0\n",
        "\n",
        "# Loop through numbers from 1 to n\n",
        "for number in range(1, n + 1):\n",
        "    if number % 2 == 0:\n",
        "        count_even += 1\n",
        "    elif number > n:  # Stop the loop when we reach a number greater than n\n",
        "        break\n",
        "\n",
        "# Display the count of even numbers\n",
        "print(f\"There are {count_even} even numbers from 1 to {n}.\")\n",
        "\n"
      ],
      "metadata": {
        "id": "gycgckoAVZjR",
        "colab": {
          "base_uri": "https://localhost:8080/"
        },
        "outputId": "abb1589f-9e74-43bc-daf1-720e843f6e2d"
      },
      "execution_count": 23,
      "outputs": [
        {
          "output_type": "stream",
          "name": "stdout",
          "text": [
            "Enter a positive integer: 12\n",
            "There are 6 even numbers from 1 to 12.\n"
          ]
        }
      ]
    },
    {
      "cell_type": "markdown",
      "source": [
        "(20) Write a Python function called count_vowels that takes a string as input and returns the count of vowels (both lowercase and uppercase) present in the string. Consider the vowels to be 'a', 'e', 'i', 'o', and 'u'. Ignore spaces and other non-alphabetic characters."
      ],
      "metadata": {
        "id": "cboAr5pEWUf5"
      }
    },
    {
      "cell_type": "code",
      "source": [
        "def count_vowels(input_string):\n",
        "    # Define a set of vowels (both lowercase and uppercase)\n",
        "    vowels = set(\"aeiouAEIOU\")\n",
        "\n",
        "    # Initialize a variable to count vowels\n",
        "    vowel_count = 0\n",
        "\n",
        "    # Iterate through the characters in the input string\n",
        "    for char in input_string:\n",
        "        # Check if the character is alphabetic and a vowel\n",
        "        if char.isalpha() and char in vowels:\n",
        "            vowel_count += 1\n",
        "\n",
        "    return vowel_count\n",
        "\n",
        "# Example usage:\n",
        "input_str = \"Hello, World! This is a test string.\"\n",
        "print(\"Number of vowels:\", result)\n",
        "\n"
      ],
      "metadata": {
        "id": "phs9gciMWWAW",
        "colab": {
          "base_uri": "https://localhost:8080/"
        },
        "outputId": "bf6458f3-42dd-494f-f9a3-546947bea9d2"
      },
      "execution_count": 25,
      "outputs": [
        {
          "output_type": "stream",
          "name": "stdout",
          "text": [
            "Number of vowels: 2432902008176640000\n"
          ]
        }
      ]
    }
  ],
  "metadata": {
    "colab": {
      "provenance": []
    },
    "kernelspec": {
      "display_name": "Python 3 (ipykernel)",
      "language": "python",
      "name": "python3"
    },
    "language_info": {
      "codemirror_mode": {
        "name": "ipython",
        "version": 3
      },
      "file_extension": ".py",
      "mimetype": "text/x-python",
      "name": "python",
      "nbconvert_exporter": "python",
      "pygments_lexer": "ipython3",
      "version": "3.9.12"
    }
  },
  "nbformat": 4,
  "nbformat_minor": 0
}